{
 "cells": [
  {
   "cell_type": "markdown",
   "metadata": {},
   "source": [
    "# Using Vision Parse with Google Gemini\n",
    "This notebook demonstrates how to use Vision Parse with Google Gemini."
   ]
  },
  {
   "cell_type": "code",
   "execution_count": 6,
   "metadata": {},
   "outputs": [
    {
     "name": "stdout",
     "output_type": "stream",
     "text": [
      "Note: you may need to restart the kernel to use updated packages.\n"
     ]
    }
   ],
   "source": [
    "# Install external dependencies - this downloads the google.generativeai package\n",
    "%pip install 'vision-parse[gemini]' -Uqq"
   ]
  },
  {
   "cell_type": "code",
   "execution_count": 7,
   "metadata": {},
   "outputs": [
    {
     "ename": "ImportError",
     "evalue": "attempted relative import with no known parent package",
     "output_type": "error",
     "traceback": [
      "\u001b[0;31m---------------------------------------------------------------------------\u001b[0m",
      "\u001b[0;31mImportError\u001b[0m                               Traceback (most recent call last)",
      "Cell \u001b[0;32mIn[7], line 3\u001b[0m\n\u001b[1;32m      1\u001b[0m \u001b[38;5;66;03m# Import VisionParser from local files in src/vision_parse\u001b[39;00m\n\u001b[1;32m      2\u001b[0m \u001b[38;5;66;03m# These local files use the external google.generativeai package\u001b[39;00m\n\u001b[0;32m----> 3\u001b[0m \u001b[38;5;28;01mfrom\u001b[39;00m \u001b[38;5;21;01m.\u001b[39;00m\u001b[38;5;21;01msrc\u001b[39;00m\u001b[38;5;21;01m.\u001b[39;00m\u001b[38;5;21;01mvision_parse\u001b[39;00m \u001b[38;5;28;01mimport\u001b[39;00m VisionParser\n\u001b[1;32m      4\u001b[0m \u001b[38;5;28;01mimport\u001b[39;00m \u001b[38;5;21;01mos\u001b[39;00m\n\u001b[1;32m      6\u001b[0m \u001b[38;5;66;03m# Initialize parser - this uses both local code and external libraries\u001b[39;00m\n",
      "\u001b[0;31mImportError\u001b[0m: attempted relative import with no known parent package"
     ]
    }
   ],
   "source": [
    "# Import VisionParser from local files in src/vision_parse\n",
    "# These local files use the external google.generativeai package\n",
    "from .src.vision_parse import VisionParser\n",
    "import os\n",
    "\n",
    "# Initialize parser - this uses both local code and external libraries\n",
    "parser = VisionParser(\n",
    "    model_name=\"gemini-1.5-flash\",\n",
    "    api_key=\"your key\",\n",
    "    temperature=0.2,\n",
    "    top_p=0.4,\n",
    "    max_output_tokens=8192,\n",
    "    image_mode=\"url\",\n",
    "    detailed_extraction=True,\n",
    ")\n",
    "\n",
    "# Process PDF file  or image files using both local and external code\n",
    "file_path = \"../examples/07012025160748.pdf\"\n",
    "markdown_pages = parser.convert_file(file_path)\n",
    "\n",
    "# Print the markdown pages\n",
    "for i, page_content in enumerate(markdown_pages):\n",
    "    print(f\"\\n--- Page {i+1} ---\\n{page_content}\")"
   ]
  }
 ],
 "metadata": {
  "kernelspec": {
   "display_name": "Python 3",
   "language": "python",
   "name": "python3"
  },
  "language_info": {
   "codemirror_mode": {
    "name": "ipython",
    "version": 3
   },
   "file_extension": ".py",
   "mimetype": "text/x-python",
   "name": "python",
   "nbconvert_exporter": "python",
   "pygments_lexer": "ipython3",
   "version": "3.12.1"
  }
 },
 "nbformat": 4,
 "nbformat_minor": 2
}
