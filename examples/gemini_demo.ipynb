{
 "cells": [
  {
   "cell_type": "markdown",
   "metadata": {},
   "source": [
    "# Using Vision Parse with Google Gemini\n",
    "This notebook demonstrates how to use Vision Parse with Google Gemini."
   ]
  },
  {
   "cell_type": "code",
   "execution_count": 1,
   "metadata": {},
   "outputs": [
    {
     "name": "stdout",
     "output_type": "stream",
     "text": [
      "Note: you may need to restart the kernel to use updated packages.\n"
     ]
    }
   ],
   "source": [
    "# Install external dependencies - this downloads the google.generativeai package\n",
    "%pip install 'vision-parse[gemini]' -Uqq"
   ]
  },
  {
   "cell_type": "code",
   "execution_count": null,
   "metadata": {},
   "outputs": [],
   "source": [
    "# Import VisionParser from local files in src/vision_parse\n",
    "# These local files use the external google.generativeai package\n",
    "from vision_parse import VisionParser\n",
    "import os\n",
    "\n",
    "# Initialize parser - this uses both local code and external libraries\n",
    "parser = VisionParser(\n",
    "    model_name=\"gemini-1.5-flash\",\n",
    "    api_key=\"your key\",\n",
    "    temperature=0.9,\n",
    "    top_p=0.4,\n",
    "    max_output_tokens=8192,\n",
    "    image_mode=\"url\",\n",
    "    detailed_extraction=True,\n",
    ")\n",
    "\n",
    "# Process PDF file  or image files using both local and external code\n",
    "file_path = \"../examples/07012025160748.pdf\"\n",
    "markdown_pages = parser.convert_file(file_path)\n",
    "\n",
    "# Print the markdown pages\n",
    "for i, page_content in enumerate(markdown_pages):\n",
    "    print(f\"\\n--- Page {i+1} ---\\n{page_content}\")"
   ]
  }
 ],
 "metadata": {
  "kernelspec": {
   "display_name": ".venv",
   "language": "python",
   "name": "python3"
  },
  "language_info": {
   "codemirror_mode": {
    "name": "ipython",
    "version": 3
   },
   "file_extension": ".py",
   "mimetype": "text/x-python",
   "name": "python",
   "nbconvert_exporter": "python",
   "pygments_lexer": "ipython3",
   "version": "3.12.3"
  }
 },
 "nbformat": 4,
 "nbformat_minor": 2
}
